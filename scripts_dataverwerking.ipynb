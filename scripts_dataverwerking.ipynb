{
 "cells": [
  {
   "cell_type": "code",
   "execution_count": 1,
   "id": "358be9c2",
   "metadata": {},
   "outputs": [],
   "source": [
    "def loadTDLAS(path, fn):\n",
    "    infn = os.path.join(path, fn)\n",
    "\n",
    "    if not os.path.isfile(infn):\n",
    "        print(\"Input file not found: {0}\".format(infn))\n",
    "        return\n",
    "    else:\n",
    "        print(\"File found: {0}\".format(infn))\n",
    "    cols = ['wavelength', 'absorption']\n",
    "    raw  = pd.read_csv(infn, names=cols, delimiter=r'\\t', skiprows=23, skipinitialspace=True,engine='python')\n",
    "    \n",
    "    N = raw.wavelength.size\n",
    "    \n",
    "    raw.wavelength = np.arange(N)\n",
    "\n",
    "    return raw\n",
    "def movinAvg(D, window=10):\n",
    "\n",
    "    x = D.wavelength.rolling(window=window).mean()\n",
    "    x.dropna(inplace=True)\n",
    "    y = D.absorption.rolling(window=window).mean()\n",
    "    y.dropna(inplace=True)\n",
    "\n",
    "    A = pd.DataFrame(columns=D.columns)\n",
    "    A.wavelength = x\n",
    "    A.absorption = y\n",
    "    A.reset_index(drop=True, inplace=True)\n",
    "\n",
    "    return A\n",
    "def limitData(D, xMin=0., xMax=1):\n",
    "    minInd = D.wavelength.searchsorted(xMin)\n",
    "    maxInd = D.wavelength.searchsorted(xMax)\n",
    "    \n",
    "    A = pd.DataFrame(D.loc[minInd:maxInd])\n",
    "    A.reset_index(drop=True, inplace=True)\n",
    "\n",
    "    return A"
   ]
  }
 ],
 "metadata": {
  "kernelspec": {
   "display_name": "Python 3",
   "language": "python",
   "name": "python3"
  },
  "language_info": {
   "codemirror_mode": {
    "name": "ipython",
    "version": 3
   },
   "file_extension": ".py",
   "mimetype": "text/x-python",
   "name": "python",
   "nbconvert_exporter": "python",
   "pygments_lexer": "ipython3",
   "version": "3.8.8"
  }
 },
 "nbformat": 4,
 "nbformat_minor": 5
}
